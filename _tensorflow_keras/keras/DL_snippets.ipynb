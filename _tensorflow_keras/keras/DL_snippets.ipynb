{
 "cells": [
  {
   "cell_type": "markdown",
   "metadata": {},
   "source": [
    "###### note"
   ]
  },
  {
   "cell_type": "markdown",
   "metadata": {},
   "source": [
    "##### warn"
   ]
  },
  {
   "cell_type": "code",
   "execution_count": null,
   "metadata": {},
   "outputs": [],
   "source": [
    "from mymods.lauthom import *"
   ]
  },
  {
   "cell_type": "code",
   "execution_count": null,
   "metadata": {},
   "outputs": [],
   "source": [
    "def svg_model(model, filename):\n",
    "    \"\"\"Visualise Keras NN model as flowchart\"\"\"\n",
    "    plot_model(model, to_file=filename)\n",
    "    return SVG(model_to_dot(model).create(prog='dot', format='svg'))\n",
    "svg_model(happyModel, 'HappyModel.png')"
   ]
  },
  {
   "cell_type": "markdown",
   "metadata": {},
   "source": [
    "\n",
    "<img src=\"../../data/conv_images/house-members.png\" width=250>"
   ]
  },
  {
   "cell_type": "code",
   "execution_count": null,
   "metadata": {},
   "outputs": [],
   "source": [
    "# Shuffle the training set\n",
    "order = np.argsort(np.random.random(train_labels.shape))"
   ]
  },
  {
   "cell_type": "code",
   "execution_count": null,
   "metadata": {},
   "outputs": [],
   "source": [
    "class PrintDot(keras.callbacks.Callback):\n",
    "    \"\"\"Display training progress by printing a single dot for each completed epoch.\n",
    "    \"\"\"\n",
    "    def on_epoch_end(self, epoch, logs):\n",
    "        if epoch % 100 == 0: print('\\nEpoch: {}'.format(epoch))\n",
    "        print('..', end='\\b')\n",
    "    def on_train_begin(self, logs=None):\n",
    "        print('\\nTraining model')\n",
    "    def on_train_end(self, logs=None):\n",
    "        print('\\nModel is trained')"
   ]
  },
  {
   "cell_type": "code",
   "execution_count": null,
   "metadata": {},
   "outputs": [],
   "source": [
    "dict_ = {\n",
    "    \"string\": \"string\",\n",
    "    \"array\": [1, 2, 3],\n",
    "    \"bool\": True,\n",
    "    \"object\": {\n",
    "        \"foo\": \"bar\"\n",
    "    }\n",
    "}\n",
    "dictify(dict_)"
   ]
  },
  {
   "cell_type": "code",
   "execution_count": null,
   "metadata": {},
   "outputs": [],
   "source": [
    "# 'RGB'->'BGR'  \n",
    "x = x[..., ::-1]  "
   ]
  },
  {
   "cell_type": "code",
   "execution_count": null,
   "metadata": {},
   "outputs": [],
   "source": [
    "# Freeze layers (Keras)\n",
    "for layer in model.layers[:25]:\n",
    "    layer.trainable = False"
   ]
  },
  {
   "cell_type": "code",
   "execution_count": null,
   "metadata": {},
   "outputs": [],
   "source": [
    "sys.path"
   ]
  },
  {
   "cell_type": "code",
   "execution_count": null,
   "metadata": {},
   "outputs": [],
   "source": [
    "dir(sys)\n",
    "sys.tracebacklimit = 0 # default = 1000"
   ]
  },
  {
   "cell_type": "code",
   "execution_count": null,
   "metadata": {},
   "outputs": [],
   "source": [
    "x = np.arange(5).reshape(-1, 1)\n",
    "x\n",
    "x.reshape(-1, 1)\n",
    "r = np.random.randint(-5, 5, 5)\n",
    "r\n",
    "r.reshape(-1, 1)\n",
    "\n",
    "# Broadcasting to random shifted range\n",
    "x + r\n",
    "y[:] = x + r\n",
    "y"
   ]
  }
 ],
 "metadata": {
  "language_info": {
   "name": "python",
   "pygments_lexer": "ipython3"
  }
 },
 "nbformat": 4,
 "nbformat_minor": 2
}
