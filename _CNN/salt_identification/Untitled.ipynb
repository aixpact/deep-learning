{
 "cells": [
  {
   "cell_type": "code",
   "execution_count": null,
   "metadata": {},
   "outputs": [],
   "source": []
  },
  {
   "cell_type": "code",
   "execution_count": null,
   "metadata": {},
   "outputs": [],
   "source": [
    "%%writefile .gitignore\n",
    "\n",
    "# Compiled source #\n",
    "###################\n",
    "*.com\n",
    "*.class\n",
    "*.dll\n",
    "*.exe\n",
    "*.o\n",
    "*.so\n",
    "\n",
    "# Packages #\n",
    "############\n",
    "# it's better to unpack these files and commit the raw source\n",
    "# git has its own built in compression methods\n",
    "*.7z\n",
    "*.dmg\n",
    "*.gz\n",
    "*.iso\n",
    "*.jar\n",
    "*.rar\n",
    "*.tar\n",
    "*.zip\n",
    "*.h5\n",
    "\n",
    "# Logs, databases en data files #\n",
    "######################\n",
    "*.csv\n",
    "*.log\n",
    "*.sql\n",
    "*.sqlite\n",
    "\n",
    "# Documents #\n",
    "######################\n",
    "*.pdf\n",
    "*.epub\n",
    "*.doc\n",
    "\n",
    "# OS generated files #\n",
    "######################\n",
    ".DS_Store\n",
    ".DS_Store?\n",
    "._*\n",
    ".Spotlight-V100\n",
    ".Trashes\n",
    "ehthumbs.db\n",
    "Thumbs.db"
   ]
  },
  {
   "cell_type": "code",
   "execution_count": null,
   "metadata": {},
   "outputs": [],
   "source": []
  },
  {
   "cell_type": "code",
   "execution_count": null,
   "metadata": {},
   "outputs": [],
   "source": []
  }
 ],
 "metadata": {
  "language_info": {
   "name": "python",
   "pygments_lexer": "ipython3"
  }
 },
 "nbformat": 4,
 "nbformat_minor": 2
}
