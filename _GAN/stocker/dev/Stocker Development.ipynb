{
 "cells": [
  {
   "cell_type": "markdown",
   "metadata": {},
   "source": [
    "# Purpose\n",
    "\n",
    "When working on a problem in Python, I work on writing code that can first do a job once. Then, I make that code into a function so I can repeat the solution as many times as needed without copying and pasting. This notebook shows my development process for the individual pieces of the stocker class. It is messy on purpose! When developing, I usually concentrate on writing functional and then go back and write proper documentation and clean things up. I preserved this notebook to show how I think things through in code."
   ]
  },
  {
   "cell_type": "markdown",
   "metadata": {},
   "source": [
    "# Stock Price Predictions\n",
    "\n",
    "We can also make testable predictions by restricting our model to a subset of the data, and then using the forecasted values to see how correct our model is. We will restrict data up until the end of 2016, and then try to make predictions for 2017."
   ]
  },
  {
   "cell_type": "code",
   "execution_count": null,
   "metadata": {},
   "outputs": [],
   "source": [
    "# quandl for financial data, pandas and numpy for data manipulation\n",
    "# prophet for additive models\n",
    "import quandl \n",
    "import pandas as pd\n",
    "import numpy as np\n",
    "import fbprophet\n",
    "\n",
    "# Plotting in the Jupyter Notebook\n",
    "import matplotlib.pyplot as plt\n",
    "%matplotlib inline\n",
    "\n",
    "# Plotting parameters\n",
    "import matplotlib\n",
    "inline_rc = dict(matplotlib.rcParams)\n",
    "matplotlib.rcParams['axes.labelsize'] = 16\n",
    "matplotlib.rcParams['xtick.labelsize'] = 14\n",
    "matplotlib.rcParams['ytick.labelsize'] = 14\n",
    "matplotlib.rcParams['axes.titlesize'] = 22\n",
    "matplotlib.rcParams['text.color'] = 'k'\n",
    "\n"
   ]
  },
  {
   "cell_type": "markdown",
   "metadata": {},
   "source": [
    "## Retrieve Data from Quandl"
   ]
  },
  {
   "cell_type": "code",
   "execution_count": null,
   "metadata": {},
   "outputs": [],
   "source": [
    "quandl.ApiConfig.api_key = 'rFsSehe51RLzREtYhLfo'\n",
    "\n",
    "# Using Tesla data\n",
    "tesla_stocks = quandl.get('WIKI/TSLA')"
   ]
  },
  {
   "cell_type": "code",
   "execution_count": null,
   "metadata": {},
   "outputs": [],
   "source": [
    "# Set the index (dates) to a column \n",
    "tesla_stocks.reset_index(level=0, inplace=True)\n",
    "\n",
    "# Rename the columns for prophet and create a year column\n",
    "tesla_stocks.rename(columns={'Date': 'ds', 'Adj. Close': 'y'}, inplace=True)\n",
    "tesla_stocks['Year'] = [date.year for date in tesla_stocks['ds']]"
   ]
  },
  {
   "cell_type": "code",
   "execution_count": null,
   "metadata": {},
   "outputs": [],
   "source": [
    "# Training and testing data\n",
    "tesla_train = tesla_stocks[tesla_stocks['Year'] < 2017]\n",
    "tesla_test = tesla_stocks[tesla_stocks['Year'] > 2016]"
   ]
  },
  {
   "cell_type": "markdown",
   "metadata": {},
   "source": [
    "## Prophet Model for Predicting Entire Year at Once"
   ]
  },
  {
   "cell_type": "code",
   "execution_count": null,
   "metadata": {},
   "outputs": [],
   "source": [
    "# Create a new model \n",
    "tesla_prophet = fbprophet.Prophet(changepoint_prior_scale=0.2)\n",
    "\n",
    "# Train the model\n",
    "tesla_prophet.fit(tesla_train)\n",
    "\n",
    "# Number of days to make predictions \n",
    "days = (max(tesla_test['ds']) - min(tesla_test['ds'])).days\n",
    "\n",
    "# Future dataframe\n",
    "tesla_forecast = tesla_prophet.make_future_dataframe(periods = days, freq = 'D')\n",
    "\n",
    "# Make forecasts\n",
    "tesla_forecast = tesla_prophet.predict(tesla_forecast)"
   ]
  },
  {
   "cell_type": "markdown",
   "metadata": {},
   "source": [
    "## Accuracy and Profits (or losses) for Entire Year at Once"
   ]
  },
  {
   "cell_type": "code",
   "execution_count": null,
   "metadata": {},
   "outputs": [],
   "source": [
    "tesla_results = tesla_forecast.merge(tesla_test, how = 'inner', on = 'ds')\n",
    "tesla_results = tesla_results[['ds', 'y', 'yhat']]\n",
    "\n",
    "# Predicted difference between stock prices\n",
    "tesla_results['pred_diff'] = (tesla_results['yhat']).diff()\n",
    "\n",
    "# Actual difference between stock prices\n",
    "tesla_results['real_diff'] = (tesla_results['y']).diff()"
   ]
  },
  {
   "cell_type": "code",
   "execution_count": null,
   "metadata": {},
   "outputs": [],
   "source": [
    "# Correct direction column\n",
    "tesla_results['correct'] = (np.sign(tesla_results['pred_diff']) == np.sign(tesla_results['real_diff'])) * 1\n",
    "print('Correct direction predicted: {:0.2f}% of days.'.format(100 * np.mean(tesla_results['correct'])))"
   ]
  },
  {
   "cell_type": "markdown",
   "metadata": {},
   "source": [
    "## Value of Predictions"
   ]
  },
  {
   "cell_type": "code",
   "execution_count": null,
   "metadata": {},
   "outputs": [],
   "source": [
    "# Need to include the adjusted open to calculate profits or losses\n",
    "tesla_results = tesla_results.merge(tesla_stocks[['ds', 'Adj. Open']], how = 'left', on = 'ds')\n",
    "tesla_results['daily_change'] = abs(tesla_results['y'] - tesla_results['Adj. Open'])"
   ]
  },
  {
   "cell_type": "code",
   "execution_count": null,
   "metadata": {},
   "outputs": [],
   "source": [
    "# Only invest on days with predicted increase in stock price\n",
    "tesla_pred_increase = tesla_results[tesla_results['pred_diff'] > 0]\n",
    "tesla_pred_increase.reset_index(inplace=True)\n",
    "\n",
    "profits = []\n",
    "\n",
    "# If buy and stock goes up, add change to profits (1000 shares)\n",
    "# If buy and stock goes down, subtract change from profit\n",
    "for i, correct in enumerate(tesla_pred_increase['correct']):\n",
    "    if correct == 1:\n",
    "        profits.append(1000 * tesla_pred_increase.ix[i, 'daily_change'])\n",
    "    else:\n",
    "        profits.append(-1 * 1000 * tesla_pred_increase.ix[i, 'daily_change'])\n",
    "        \n",
    "tesla_pred_increase['profit'] = profits"
   ]
  },
  {
   "cell_type": "code",
   "execution_count": null,
   "metadata": {},
   "outputs": [],
   "source": [
    "print('Predicted profits for entire year at once: {:.0f} $.'.format(np.sum(tesla_pred_increase['profit'])))"
   ]
  },
  {
   "cell_type": "code",
   "execution_count": null,
   "metadata": {},
   "outputs": [],
   "source": [
    "smart_profit = 1000 * (tesla_results.ix[len(tesla_results) - 1, 'y'] - tesla_results.ix[0, 'Adj. Open'])\n",
    "print('Buy and Hold for entire year profits: {:.0f} $.'.format(smart_profit))"
   ]
  },
  {
   "cell_type": "markdown",
   "metadata": {},
   "source": [
    "# Visualizations of Entire Year at Once"
   ]
  },
  {
   "cell_type": "code",
   "execution_count": null,
   "metadata": {},
   "outputs": [],
   "source": [
    "# Dataframe for plotting\n",
    "tesla_plot = pd.merge(tesla_stocks, tesla_forecast, on = 'ds', how = 'inner')"
   ]
  },
  {
   "cell_type": "markdown",
   "metadata": {},
   "source": [
    "## Predictions and Actual Values"
   ]
  },
  {
   "cell_type": "code",
   "execution_count": null,
   "metadata": {},
   "outputs": [],
   "source": [
    "# Set up the plot\n",
    "fig, ax = plt.subplots(1, 1, figsize=(12, 8))\n",
    "\n",
    "# Plot the actual values\n",
    "ax.plot(tesla_plot['ds'], tesla_plot['y'], 'ko-', linewidth = 1.4, alpha = 0.8, ms = 1.8, label = 'Observations')\n",
    "# Plot the predicted values\n",
    "ax.plot(tesla_plot['ds'], tesla_plot['yhat'], 'darkslateblue',linewidth = 3.2, label = 'Predicted');\n",
    "\n",
    "# Plot the uncertainty interval as ribbon\n",
    "ax.fill_between(tesla_plot['ds'].dt.to_pydatetime(), tesla_plot['yhat_upper'], tesla_plot['yhat_lower'], alpha = 0.6, \n",
    "               facecolor = 'gold', edgecolor = 'k', linewidth = 1.4, label = 'Uncertainty')\n",
    "\n",
    "# Put a vertical line at the start of predictions\n",
    "plt.vlines(x='2017-01-01', ymin=0, ymax=max(tesla_plot['y']), colors = 'r',\n",
    "           linestyles='dashed')\n",
    "\n",
    "# Plot formatting\n",
    "plt.legend(loc = 2, prop={'size': 14}); plt.xlabel('Date'); plt.ylabel('Price $');\n",
    "plt.grid(linewidth=0.6, alpha = 0.6)\n",
    "plt.title('Tesla Stock Price Observed and Predicted');"
   ]
  },
  {
   "cell_type": "markdown",
   "metadata": {},
   "source": [
    "## Predicted and Smart Profits over Year "
   ]
  },
  {
   "cell_type": "code",
   "execution_count": null,
   "metadata": {},
   "outputs": [],
   "source": [
    "# Merge results with the predicted increase containing profits\n",
    "# tesla results contains actual data and predicted values\n",
    "tesla_results = pd.merge(tesla_results, tesla_pred_increase[['ds', 'profit']], on = 'ds', how='left')"
   ]
  },
  {
   "cell_type": "code",
   "execution_count": null,
   "metadata": {},
   "outputs": [],
   "source": [
    "# Total predicted profit at each day\n",
    "tesla_results['total_profit'] = tesla_results['profit'].cumsum()"
   ]
  },
  {
   "cell_type": "code",
   "execution_count": null,
   "metadata": {},
   "outputs": [],
   "source": [
    "# Forward fill the total predicted profits\n",
    "tesla_results.ix[0, 'total_profit'] = 0\n",
    "tesla_results['total_profit'] = tesla_results['total_profit'].ffill()"
   ]
  },
  {
   "cell_type": "code",
   "execution_count": null,
   "metadata": {},
   "outputs": [],
   "source": [
    "# Calculate the profits from buying and holding\n",
    "smart_profits = []\n",
    "first_open = tesla_results.ix[0, 'Adj. Open']\n",
    "\n",
    "for i, close in enumerate(tesla_results['y']):\n",
    "    smart_profits.append(1000 * (close - first_open))\n",
    "   \n",
    "# No need for cumulative sum because smart profits are unrealized\n",
    "tesla_results['total_smart'] = smart_profits"
   ]
  },
  {
   "cell_type": "code",
   "execution_count": null,
   "metadata": {},
   "outputs": [],
   "source": [
    "# Final profit and final smart used for locating text\n",
    "final_profit = tesla_results.ix[len(tesla_results) - 1, 'total_profit']\n",
    "final_smart = tesla_results.ix[len(tesla_results) - 1, 'total_smart']\n",
    "\n",
    "# text location\n",
    "last_date = tesla_results.ix[len(tesla_results) - 1, 'ds']\n",
    "text_location = (last_date - pd.DateOffset(months = 1)).date()\n",
    "\n",
    "plt.style.use('dark_background')\n",
    "plt.figure(figsize=(12, 8))\n",
    "\n",
    "# Plot smart profits\n",
    "plt.plot(tesla_results['ds'], tesla_results['total_smart'], 'b',\n",
    "         linewidth = 3, label = 'Smart Profits') \n",
    "\n",
    "# Plot prediction profits\n",
    "plt.plot(tesla_results['ds'], tesla_results['total_profit'], \n",
    "         color = 'g' if final_profit > 0 else 'r',\n",
    "         linewidth = 3, label = 'Prediction Profits')\n",
    "\n",
    "# Display final values on graph\n",
    "plt.text(x = text_location, \n",
    "         y =  final_profit + (final_profit / 40),\n",
    "         s = '%d$' % final_profit,\n",
    "        color = 'w' if final_profit > 0 else 'r',\n",
    "        size = 18)\n",
    "plt.text(x = text_location, \n",
    "         y =  final_smart + (final_smart / 40),\n",
    "         s = '%d$' % final_smart,\n",
    "        color = 'w' if final_smart > 0 else 'r',\n",
    "        size = 18);\n",
    "\n",
    "# Plot formatting\n",
    "plt.ylabel('Profit  (US $)'); plt.xlabel('Date'); \n",
    "plt.title('Tesla 2017 Prediction Profits and Smart Profits');\n",
    "plt.legend(loc = 2, prop={'size': 16});\n",
    "plt.grid(alpha=0.2); \n"
   ]
  },
  {
   "cell_type": "markdown",
   "metadata": {},
   "source": [
    "### Plotting Lines Segments with Different Colors for Losses and Profits (Not Used)\n",
    "\n",
    "This is really complicated code that I copied and pasted from the matplotlib documentation. It does work, but because I don't entirely understand it, I decided to go with the simpler graph."
   ]
  },
  {
   "cell_type": "code",
   "execution_count": null,
   "metadata": {},
   "outputs": [],
   "source": [
    "from matplotlib.collections import LineCollection\n",
    "from matplotlib.colors import ListedColormap, BoundaryNorm\n",
    "\n",
    "\n",
    "x = np.array(list(range(len(tesla_results))))\n",
    "xlabels = ['Jan', 'Feb', 'Mar', 'Apr', 'May', 'Jun', 'Jul', \n",
    "           'Aug', 'Sep', 'Oct', 'Nov', 'Dec', 'Jan']\n",
    "\n",
    "y = np.array(tesla_results['total_profit'])\n",
    "\n",
    "# Create a colormap for red, green and blue and a norm to color\n",
    "# f' < -0.5 red, f' > 0.5 blue, and the rest green\n",
    "cmap = ListedColormap(['r', 'g'])\n",
    "norm = BoundaryNorm([0], cmap.N)\n",
    "\n",
    "# Create a set of line segments so that we can color them individually\n",
    "# This creates the points as a N x 1 x 2 array so that we can stack points\n",
    "# together easily to get the segments. The segments array for line collection\n",
    "# needs to be numlines x points per line x 2 (x and y)\n",
    "points = np.array([x, y]).T.reshape(-1, 1, 2)\n",
    "segments = np.concatenate([points[:-1], points[1:]], axis=1)\n",
    "\n",
    "# Create the line collection object, setting the colormapping parameters.\n",
    "# Have to set the actual values used for colormapping separately.\n",
    "lc = LineCollection(segments, label = 'Prediction Profits', cmap=cmap, norm=norm)\n",
    "lc.set_array(y)\n",
    "lc.set_linewidth(3)\n",
    "\n",
    "xticks = list(range(0, x.max(), int(x.max() / 12)))\n",
    "\n",
    "fig1 = plt.figure(figsize=(10,8))\n",
    "fig1.autofmt_xdate()\n",
    "plt.gca().add_collection(lc)\n",
    "plt.plot(x, tesla_results['total_smart'], label = 'Smart Profit')\n",
    "plt.xticks(xticks, xlabels);\n",
    "plt.legend();"
   ]
  },
  {
   "cell_type": "markdown",
   "metadata": {},
   "source": [
    "# Forecast the next month at Once"
   ]
  },
  {
   "cell_type": "code",
   "execution_count": null,
   "metadata": {},
   "outputs": [],
   "source": [
    "# Make new model and fit\n",
    "forecast_prophet = fbprophet.Prophet(daily_seasonality=False,\n",
    "                                     changepoint_prior_scale=0.3)\n",
    "forecast_prophet.fit(tesla_stocks)\n",
    "\n",
    "# Make future dataframe and predict\n",
    "future_tesla = forecast_prophet.make_future_dataframe(periods=30, freq='D')\n",
    "future_tesla = forecast_prophet.predict(future_tesla)"
   ]
  },
  {
   "cell_type": "code",
   "execution_count": null,
   "metadata": {},
   "outputs": [],
   "source": [
    "# Only want weekdays\n",
    "weekdays = [i for i, date in enumerate(future_tesla['ds']) if date.dayofweek < 5]\n",
    "future_tesla = future_tesla.ix[weekdays, :]\n",
    "\n",
    "# Only predictions\n",
    "future_tesla = future_tesla[future_tesla['ds'] > max(tesla_stocks['ds'])]"
   ]
  },
  {
   "cell_type": "code",
   "execution_count": null,
   "metadata": {},
   "outputs": [],
   "source": [
    "# Difference and buy/sell recommedation\n",
    "future_tesla['diff'] = future_tesla['yhat'].diff()\n",
    "future_tesla = future_tesla.dropna()\n",
    "future_tesla['buy'] = [1 if diff > 0 else 0 for diff in future_tesla['diff']]"
   ]
  },
  {
   "cell_type": "code",
   "execution_count": null,
   "metadata": {},
   "outputs": [],
   "source": [
    "# Create two separate dataframes for plotting\n",
    "future_buy = future_tesla[future_tesla['buy'] == 1]\n",
    "future_sell = future_tesla[future_tesla['buy'] == 0]\n",
    "\n",
    "matplotlib.rcParams.update(matplotlib.rcParamsDefault)\n",
    "# Plot of future predictions\n",
    "plt.style.use('fivethirtyeight')\n",
    "matplotlib.rcParams['axes.labelsize'] = 14\n",
    "matplotlib.rcParams['xtick.labelsize'] = 12\n",
    "matplotlib.rcParams['ytick.labelsize'] = 12\n",
    "matplotlib.rcParams['axes.titlesize'] = 18\n",
    "fig, ax = plt.subplots(1, 1, figsize=(10, 8))\n",
    "\n",
    "# Plot the estimates\n",
    "ax.plot(future_buy['ds'], future_buy['yhat'], 'g^', ms = 16, label = 'Buy')\n",
    "ax.plot(future_sell['ds'], future_sell['yhat'], 'rv', ms = 16, label = 'Sell')\n",
    "\n",
    "# Plot errorbars\n",
    "ax.errorbar(future_tesla['ds'].dt.to_pydatetime(), future_tesla['yhat'], \n",
    "            yerr = future_tesla['yhat_upper']- future_tesla['yhat_lower'], \n",
    "            capthick=2, color = 'k',linewidth = 3,\n",
    "           ecolor='darkblue', capsize = 6, elinewidth = 2, label = 'Pred with Range')\n",
    "\n",
    "# Plot formatting\n",
    "plt.legend(loc = 2, prop={'size': 12});\n",
    "plt.xticks(rotation = '45')\n",
    "plt.ylabel('Predicted Stock Price (US $)');\n",
    "plt.xlabel('Date'); plt.title('Buy and Sell Predictions for Tesla');"
   ]
  },
  {
   "cell_type": "code",
   "execution_count": null,
   "metadata": {},
   "outputs": [],
   "source": [
    "print('Recommeded Buy Dates:\\n')\n",
    "for date, change in zip(future_buy['ds'], future_buy['diff']):\n",
    "    print('Date: {} \\t Predicted Change: {:.2f}$.'.format(date.date(), change))"
   ]
  },
  {
   "cell_type": "code",
   "execution_count": null,
   "metadata": {},
   "outputs": [],
   "source": [
    "print('Recommended Sell Dates:\\n')\n",
    "for date, change in zip(future_sell['ds'], future_sell['diff']):\n",
    "    print('Date: {} \\t Predicted Change: {:.2f}$.'.format(date.date(), change))"
   ]
  },
  {
   "cell_type": "markdown",
   "metadata": {},
   "source": [
    "# Evaluate on One Year One Day at a Time"
   ]
  },
  {
   "cell_type": "code",
   "execution_count": null,
   "metadata": {},
   "outputs": [],
   "source": [
    "# stock = quandl.get('WIKI/TSLA')\n",
    "# stock.reset_index(level=0, inplace=True)\n",
    "\n",
    "# stock = stock.rename(columns={'Date': 'ds', 'Adj. Close': 'y'})\n",
    "\n",
    "# # Year column\n",
    "# stock['Year'] = [date.year for date in stock['ds']]\n",
    "\n",
    "# # Only going to use three years of past data \n",
    "# stock = stock[stock['Year'] > 2013]\n",
    "\n",
    "# stock.head()"
   ]
  },
  {
   "cell_type": "markdown",
   "metadata": {},
   "source": [
    "We now need to iterate through every day from start of 2017 up until the end of the data, making a prediction one day at a time. We want to train our model on all the data up until the day we are predicting, and then predict only one day. This may take a little time, but we can speed things up if we do not make predictions for weekends. This will be a more realistic prediction than one year at a time, becuase if we were actively trading we would like to train a new model for every day."
   ]
  },
  {
   "cell_type": "code",
   "execution_count": null,
   "metadata": {},
   "outputs": [],
   "source": [
    "# # Make a dataframe to hold all the results\n",
    "# results = stock.copy()\n",
    "# results['yhat'] = 0\n",
    "# results['yhat_upper'] = 0\n",
    "# results['yhat_lower'] = 0\n",
    "\n",
    "# # Set the index for locating\n",
    "# results = results.set_index('ds')"
   ]
  },
  {
   "cell_type": "code",
   "execution_count": null,
   "metadata": {},
   "outputs": [],
   "source": [
    "# day_range = pd.date_range(start=pd.datetime(2017, 1, 1), end=max(stock['ds']), freq='D')\n",
    "# eval_length = (day_range[-1] - day_range[0]).days"
   ]
  },
  {
   "cell_type": "code",
   "execution_count": null,
   "metadata": {},
   "outputs": [],
   "source": [
    "# for i, day in enumerate(day_range):\n",
    "#     print('{:.2f}% Complete.\\r'.format(100 * i / eval_length), end='')\n",
    "#     # Do not make predictions on Sat or Sun\n",
    "#     if day.weekday() == 5 or day.weekday() == 6:\n",
    "#         pass\n",
    "        \n",
    "#     else:\n",
    "#         # Select all the training data up until prediction day\n",
    "#         train = stock[stock['ds'] < day.date()]\n",
    "#         # Create a prophet model and fit on the training data\n",
    "#         model = fbprophet.Prophet(daily_seasonality=False, changepoint_prior_scale=0.2)\n",
    "#         model.fit(train)\n",
    "        \n",
    "#         # Make a future dataframe with one day\n",
    "#         future = model.make_future_dataframe(periods=1, freq='D')\n",
    "#         future = model.predict(future)\n",
    "        \n",
    "#         # Extract the relevant prediction information\n",
    "#         yhat = future.ix[len(future) - 1, 'yhat']\n",
    "#         yhat_upper = future.ix[len(future) - 1, 'yhat_upper']\n",
    "#         yhat_lower = future.ix[len(future) - 1, 'yhat_lower']\n",
    "        \n",
    "#         # Assign the dates to the results dataframe\n",
    "#         results.ix[day, 'yhat'] = yhat\n",
    "#         results.ix[day, 'yhat_upper'] = yhat_upper\n",
    "#         results.ix[day, 'yhat_lower'] = yhat_lower\n",
    "    "
   ]
  },
  {
   "cell_type": "markdown",
   "metadata": {},
   "source": [
    "# Visualization Functions"
   ]
  },
  {
   "cell_type": "code",
   "execution_count": null,
   "metadata": {},
   "outputs": [],
   "source": [
    "def plot_predictions(stock_df, forecast_df, ticker='TSLA'):\n",
    "    # merge the two dataframes\n",
    "    stock_plot = pd.merge(stock_df, forecast_df, on = 'ds', how = 'inner')\n",
    "    \n",
    "    # Plot parameters\n",
    "    matplotlib.rcParams.update(matplotlib.rcParamsDefault)\n",
    "    \n",
    "    matplotlib.rcParams['axes.labelsize'] = 16\n",
    "    matplotlib.rcParams['xtick.labelsize'] = 14\n",
    "    matplotlib.rcParams['ytick.labelsize'] = 14\n",
    "    matplotlib.rcParams['axes.titlesize'] = 22\n",
    "    matplotlib.rcParams['text.color'] = 'k'\n",
    "\n",
    "    # Set up the plot\n",
    "    fig, ax = plt.subplots(1, 1, figsize=(10, 8))\n",
    "    \n",
    "    # Plot the actual values\n",
    "    ax.plot(stock_plot['ds'], stock_plot['y'], 'ko-', linewidth = 1.4, alpha = 0.8, ms = 1.8, label = 'Observed')\n",
    "    ax.plot(stock_plot['ds'], stock_plot['yhat'], 'darkslateblue',linewidth = 3.2, label = 'Predicted');\n",
    "\n",
    "    # Plot the uncertainty interval\n",
    "    ax.fill_between(stock_plot['ds'].dt.to_pydatetime(), stock_plot['yhat_upper'], stock_plot['yhat_lower'], alpha = 0.6, \n",
    "                   facecolor = 'gold', edgecolor = 'k', linewidth = 1.4, label = 'Uncertainty')\n",
    "\n",
    "    # Put a vertical line at the start of predictions\n",
    "    plt.vlines(x='2017-01-01', ymin=0, ymax=max(stock_plot['y']), colors = 'r',\n",
    "               linestyles='dashed')\n",
    "    plt.legend(loc = 2, prop={'size': 14}); plt.xlabel('Date'); plt.ylabel('Price $');\n",
    "    plt.grid(linewidth=0.6, alpha = 0.6)\n",
    "    plt.title('%s Price Observed and Predicted' % ticker);"
   ]
  },
  {
   "cell_type": "code",
   "execution_count": null,
   "metadata": {},
   "outputs": [],
   "source": [
    "def plot_profits(results, ticker):\n",
    "    # Total predicted profit at each day\n",
    "    results['total_profit'] = results['profit'].cumsum()\n",
    "    \n",
    "    # Forward fill the total predicted profits\n",
    "    results.ix[0, 'total_profit'] = 0\n",
    "    results['total_profit'] = results['total_profit'].ffill()\n",
    "    \n",
    "    # Calculate the profits from buying and holding\n",
    "    smart_profits = []\n",
    "    first_open = results.ix[0, 'Adj. Open']\n",
    "\n",
    "    for i, close in enumerate(results['y']):\n",
    "        smart_profits.append(1000 * (close - first_open))\n",
    "    \n",
    "    # Column with daily profits\n",
    "    # No need for cumulative total because smart profits are unrealized\n",
    "    results['total_smart'] = smart_profits\n",
    "    \n",
    "    # Final total profit and smart profit for plotting\n",
    "    final_profit = results.ix[len(results) - 1, 'total_profit']\n",
    "    final_smart = results.ix[len(results) - 1, 'total_smart']\n",
    "    \n",
    "    # Last date for location of text annotation\n",
    "    last_date = results.ix[len(results) - 1, 'ds']\n",
    "    text_location = (last_date - pd.DateOffset(months = 1)).date()\n",
    "\n",
    "    # Plot parameters\n",
    "    matplotlib.rcParams.update(matplotlib.rcParamsDefault)\n",
    "    matplotlib.rcParams['axes.labelsize'] = 16\n",
    "    matplotlib.rcParams['xtick.labelsize'] = 14\n",
    "    matplotlib.rcParams['ytick.labelsize'] = 14\n",
    "    matplotlib.rcParams['axes.titlesize'] = 22\n",
    "    matplotlib.rcParams['text.color'] = 'k'\n",
    "    \n",
    "    # Set the style\n",
    "    plt.style.use('dark_background')\n",
    "    \n",
    "    # Set up the plot\n",
    "    plt.figure(figsize=(10, 8))\n",
    "    \n",
    "    # Smart Profits\n",
    "    plt.plot(results['ds'], results['total_smart'], 'b',\n",
    "         linewidth = 3.0, label = 'Smart Profits') \n",
    "    \n",
    "    # Prediction Profits\n",
    "    plt.plot(results['ds'], results['total_profit'], \n",
    "         color = 'g' if final_profit > 0 else 'r',\n",
    "         linewidth = 3.0, label = 'Prediction Profits')\n",
    "    \n",
    "    # Labels and Title\n",
    "    plt.ylabel('Profit  (US $)'); plt.xlabel('Date'); \n",
    "    plt.title('%s 2017 Prediction Profits and Smart Profits' % ticker);\n",
    "    \n",
    "    # Legend and grid\n",
    "    plt.legend(loc = 2, prop={'size': 16});\n",
    "    plt.grid(alpha=0.6); \n",
    "    \n",
    "    # Add label for final total profit\n",
    "    plt.text(x = text_location, \n",
    "         y =  final_profit +  (final_profit / 40),\n",
    "         s = '%d $' % final_profit,\n",
    "        color = 'w' if final_profit > 0 else 'r',\n",
    "        size = 16)\n",
    "    # Add label for final smart profits\n",
    "    plt.text(x = text_location, \n",
    "         y =  final_smart + (final_smart / 40),\n",
    "         s = '%d $' % final_smart,\n",
    "        color = 'w' if final_smart > 0 else 'r',\n",
    "        size = 16);"
   ]
  },
  {
   "cell_type": "markdown",
   "metadata": {},
   "source": [
    "## Forecast and Graph Function"
   ]
  },
  {
   "cell_type": "code",
   "execution_count": null,
   "metadata": {},
   "outputs": [],
   "source": [
    "def forecast_and_plot(stock, ticker, changepoint_prior_scale=0.2):\n",
    "    # Make new model and fit\n",
    "    forecast_prophet = fbprophet.Prophet(daily_seasonality=False,\n",
    "                                         changepoint_prior_scale=changepoint_prior_scale)\n",
    "    forecast_prophet.fit(stock)\n",
    "\n",
    "    # Make future dataframe and predict\n",
    "    future = forecast_prophet.make_future_dataframe(periods=30, freq='D')\n",
    "    future = forecast_prophet.predict(future)\n",
    "\n",
    "    # Only want weekdays\n",
    "    weekdays = [i for i, date in enumerate(future['ds']) if date.dayofweek < 5]\n",
    "    future = future.ix[weekdays, :]\n",
    "\n",
    "    # Only predictions\n",
    "    future = future[future['ds'] >= max(stock['ds'])]\n",
    "    \n",
    "    # Difference between predictions\n",
    "    future['diff'] = future['yhat'].diff()\n",
    "    \n",
    "    # Drop rows with na values\n",
    "    future = future.dropna()\n",
    "    \n",
    "    # Buy/sell recommendation\n",
    "    future['buy'] = [1 if diff > 0 else 0 for diff in future['diff']]\n",
    "\n",
    "    # Create two separate dataframes for plotting\n",
    "    future_buy = future[future['buy'] == 1]\n",
    "    future_sell = future[future['buy'] == 0]\n",
    "\n",
    "    # Plotting Parameters\n",
    "    matplotlib.rcParams.update(matplotlib.rcParamsDefault)\n",
    "    plt.style.use('fivethirtyeight')\n",
    "    matplotlib.rcParams['axes.labelsize'] = 14\n",
    "    matplotlib.rcParams['xtick.labelsize'] = 12\n",
    "    matplotlib.rcParams['ytick.labelsize'] = 12\n",
    "    matplotlib.rcParams['axes.titlesize'] = 18\n",
    "    \n",
    "    fig, ax = plt.subplots(1, 1, figsize=(10, 8))\n",
    "    ax.plot(future_buy['ds'], future_buy['yhat'], 'g^', ms = 16, label = 'Buy')\n",
    "    ax.plot(future_sell['ds'], future_sell['yhat'], 'rv', ms = 16, label = 'Sell')\n",
    "    ax.errorbar(future['ds'].dt.to_pydatetime(), future['yhat'], \n",
    "            yerr = future['yhat_upper']- future['yhat_lower'], \n",
    "            capthick=2, color = 'k',linewidth = 3,\n",
    "           ecolor='darkblue', capsize = 6, elinewidth = 2, label = 'Pred with Range')\n",
    "\n",
    "    plt.legend(loc = 2, prop={'size': 12});\n",
    "    plt.xticks(rotation = '45')\n",
    "    plt.ylabel('Predicted Stock Price (US $)');\n",
    "    plt.xlabel('Date'); plt.title('Buy and Sell Predictions for %s' % ticker);\n",
    "\n",
    "    # Predicted buy dates\n",
    "    print('Recommeded Buy Dates:\\n')\n",
    "    for date, change in zip(future_buy['ds'], future_buy['diff']):\n",
    "        print('Date: {} \\t Predicted Change: {:.2f}$.'.format(date.date(), change))\n",
    "    \n",
    "    # Predicted sell dates\n",
    "    print('\\nRecommended Sell Dates:\\n')\n",
    "    for date, change in zip(future_sell['ds'], future_sell['diff']):\n",
    "        print('Date: {} \\t Predicted Change: {:.2f}$.'.format(date.date(), change))\n",
    "    \n",
    "    print('\\n')"
   ]
  },
  {
   "cell_type": "markdown",
   "metadata": {},
   "source": [
    "# Stock Predictor Function \n",
    "\n",
    "This will be turned into a class because it makes more sense."
   ]
  },
  {
   "cell_type": "code",
   "execution_count": null,
   "metadata": {},
   "outputs": [],
   "source": [
    "def stock_predictor(ticker='TSLA'):\n",
    "    try:\n",
    "        # Using years from 2011 onwards\n",
    "        stock = quandl.get('WIKI/%s' % ticker.upper(), start_date = '2011-01-01')\n",
    "    except Exception as e:\n",
    "        print('Invalid Stock Ticker')\n",
    "        print(e)\n",
    "        return\n",
    "    \n",
    "    # Change the index to a Date column\n",
    "    stock_clean = stock.reset_index()[['Date', 'Adj. Close', 'Adj. Open']]\n",
    "    \n",
    "    # Create a year column\n",
    "    stock_clean['Year'] = [date.year for date in stock_clean['Date']]\n",
    "    \n",
    "    # Rename for prophet training\n",
    "    stock_clean = stock_clean.rename(columns={'Date': 'ds', 'Adj. Close': 'y'})\n",
    "    \n",
    "    # Training and Testing Sets\n",
    "    stock_train = stock_clean[stock_clean['Year'] < 2017]\n",
    "    stock_test = stock_clean[stock_clean['Year'] > 2016]\n",
    "    \n",
    "    # Create the prophet model and fit on training set\n",
    "    stock_prophet = fbprophet.Prophet(daily_seasonality=False,\n",
    "                                      changepoint_prior_scale=0.2)\n",
    "    stock_prophet.fit(stock_train)\n",
    "    \n",
    "    # Number of days to predict\n",
    "    days = (max(stock_test['ds']) - min(stock_test['ds'])).days\n",
    "    \n",
    "    # Make forecasts for entire length of test set + one week\n",
    "    stock_forecast = stock_prophet.make_future_dataframe(periods=days + 7, freq = 'D')\n",
    "    stock_forecast = stock_prophet.predict(stock_forecast)\n",
    "    \n",
    "    # Plot the entire series\n",
    "    plot_predictions(stock_clean, stock_forecast, ticker)\n",
    "    \n",
    "    # Dataframe for predictions and test values\n",
    "    results = stock_forecast[['ds', 'yhat', 'yhat_upper', 'yhat_lower']]\n",
    "    \n",
    "    # Merge to get acutal values (y)\n",
    "    results = pd.merge(results, stock_test[['ds', 'y']], on = 'ds', how='right')\n",
    "    \n",
    "    # Merge to get daily opening values (Adj. Open)\n",
    "    results = results.merge(stock_clean[['ds', 'Adj. Open']], on = 'ds', how ='inner')\n",
    "    \n",
    "    # Columns of daily changes\n",
    "    results['pred_diff'] = results['yhat'].diff()\n",
    "    results['real_diff'] = results['y'].diff()\n",
    "    \n",
    "    # Whether the prediction was right or wrong\n",
    "    # Multiply by 1 to convert to an integer\n",
    "    results['correct'] = (np.sign(results['pred_diff']) == np.sign(results['real_diff'])) * 1\n",
    "    \n",
    "    # Calculate daily change in price\n",
    "    results['daily_change'] = abs(results['y'] - results['Adj. Open'])\n",
    "    \n",
    "    # Only buy if predicted to increase\n",
    "    results_pred_increase = results[results['pred_diff'] > 0]\n",
    "        \n",
    "    # Calculate profits or losses\n",
    "    profits = []\n",
    "    for i, correct in enumerate(results_pred_increase['correct']):\n",
    "        if correct == 1:\n",
    "            profits.append(1000 * results.ix[i, 'daily_change'])\n",
    "        else:\n",
    "            profits.append(-1 * 1000 * results.ix[i, 'daily_change'])\n",
    "    \n",
    "    results_pred_increase['profit'] = profits\n",
    "    \n",
    "    # Dataframe for plotting profits\n",
    "    results = pd.merge(results, results_pred_increase[['ds', 'profit']], on = 'ds', how = 'left')\n",
    "    \n",
    "    # Plot the profits (or losses)\n",
    "    plot_profits(results, ticker)\n",
    "    \n",
    "    # Calculate total profit if buying 1000 shares every day\n",
    "    total_profit = int(np.sum(profits))\n",
    "    \n",
    "    # Calculate total profit if buying and holding 1000 shares for entire time\n",
    "    first_price = int(results[results['ds'] == min(results['ds'])]['y'])\n",
    "    last_price = int(results[results['ds'] == max(results['ds'])]['y'])\n",
    "\n",
    "    # Smart profit\n",
    "    smart_profit = (last_price - first_price) * 1000\n",
    "    \n",
    "    # Total accuracy is percentage of correct predictions\n",
    "    accuracy = np.mean(results['correct']) *  100\n",
    "    \n",
    "    performance = {'pred_profit': total_profit, 'smart_profit': smart_profit, 'accuracy': accuracy}\n",
    "    \n",
    "    print('You were correct {:.2f}% of the time.'.format(accuracy))\n",
    "    print('Your profit from playing the stock market in {}: {:.0f} $.'.format(ticker, total_profit))\n",
    "    print('The buy and hold profit (smart strategy) for {}: {:.0f} $.'.format(ticker, smart_profit))\n",
    "    print('Thanks for playing the stock market!')\n",
    "    \n",
    "    return(stock_clean)"
   ]
  },
  {
   "cell_type": "code",
   "execution_count": null,
   "metadata": {},
   "outputs": [],
   "source": [
    "stock = stock_predictor('TSLA')"
   ]
  },
  {
   "cell_type": "code",
   "execution_count": null,
   "metadata": {},
   "outputs": [],
   "source": [
    "forecast_and_plot(stock, ticker = 'TSLA')"
   ]
  },
  {
   "cell_type": "code",
   "execution_count": null,
   "metadata": {},
   "outputs": [],
   "source": [
    "stock = stock_predictor('CAT')"
   ]
  },
  {
   "cell_type": "code",
   "execution_count": null,
   "metadata": {},
   "outputs": [],
   "source": [
    "stock = stock_predictor('MSFT')"
   ]
  },
  {
   "cell_type": "code",
   "execution_count": null,
   "metadata": {},
   "outputs": [],
   "source": [
    "forecast_and_plot(stock, ticker = 'MSFT')"
   ]
  },
  {
   "cell_type": "code",
   "execution_count": null,
   "metadata": {},
   "outputs": [],
   "source": []
  }
 ],
 "metadata": {
  "language_info": {
   "name": "python",
   "pygments_lexer": "ipython3"
  }
 },
 "nbformat": 4,
 "nbformat_minor": 2
}
